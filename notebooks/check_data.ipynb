{
 "cells": [
  {
   "metadata": {},
   "cell_type": "code",
   "outputs": [],
   "execution_count": null,
   "source": "# https://chatgpt.com/c/685ea7d6-8738-8004-b57a-44b44511f2f1",
   "id": "29970bff4bf0ed55"
  },
  {
   "cell_type": "code",
   "id": "initial_id",
   "metadata": {
    "collapsed": true,
    "ExecuteTime": {
     "end_time": "2025-06-27T14:36:26.967171Z",
     "start_time": "2025-06-27T14:36:26.018831Z"
    }
   },
   "source": [
    "import wfdb\n",
    "import numpy as np\n",
    "import matplotlib.pyplot as plt\n",
    "import os"
   ],
   "outputs": [],
   "execution_count": 1
  },
  {
   "metadata": {
    "ExecuteTime": {
     "end_time": "2025-06-27T15:09:25.521837Z",
     "start_time": "2025-06-27T15:09:25.456115Z"
    }
   },
   "cell_type": "code",
   "source": [
    "import wfdb\n",
    "\n",
    "record_path = '../data/files/I01'\n",
    "\n",
    "# Load the record (wfdb reads the .hea and finds .mat automatically)\n",
    "record = wfdb.rdrecord(record_path)\n",
    "\n",
    "print(\"Signal shape:\", record.p_signal.shape)\n",
    "print(\"Signal names:\", record.sig_name)\n"
   ],
   "id": "9eea23c051b47080",
   "outputs": [
    {
     "name": "stdout",
     "output_type": "stream",
     "text": [
      "Signal shape: (462600, 12)\n",
      "Signal names: ['I', 'II', 'III', 'AVR', 'AVL', 'AVF', 'V1', 'V2', 'V3', 'V4', 'V5', 'V6']\n"
     ]
    }
   ],
   "execution_count": 12
  },
  {
   "metadata": {
    "ExecuteTime": {
     "end_time": "2025-06-27T15:11:30.017144Z",
     "start_time": "2025-06-27T15:11:29.946225Z"
    }
   },
   "cell_type": "code",
   "source": "annotation = wfdb.rdann(record_path, 'atr')",
   "id": "5a71c6aee0a49dec",
   "outputs": [],
   "execution_count": 13
  },
  {
   "metadata": {
    "ExecuteTime": {
     "end_time": "2025-06-27T15:11:37.640740Z",
     "start_time": "2025-06-27T15:11:37.630736Z"
    }
   },
   "cell_type": "code",
   "source": [
    "# Show basic info\n",
    "print(\"Signal shape:\", record.p_signal.shape)\n",
    "print(\"Signal names:\", record.sig_name)\n",
    "print(\"Number of annotations:\", len(annotation.sample))\n",
    "print(\"First 5 annotation positions (samples):\", annotation.sample[:5])\n",
    "print(\"First 5 annotation symbols:\", annotation.symbol[:5])"
   ],
   "id": "2a578958bab4ebfe",
   "outputs": [
    {
     "name": "stdout",
     "output_type": "stream",
     "text": [
      "Signal shape: (462600, 12)\n",
      "Signal names: ['I', 'II', 'III', 'AVR', 'AVL', 'AVF', 'V1', 'V2', 'V3', 'V4', 'V5', 'V6']\n",
      "Number of annotations: 2757\n",
      "First 5 annotation positions (samples): [114 277 442 608 710]\n",
      "First 5 annotation symbols: ['N', 'N', 'N', 'N', 'V']\n"
     ]
    }
   ],
   "execution_count": 14
  },
  {
   "metadata": {
    "ExecuteTime": {
     "end_time": "2025-06-27T17:41:07.800608Z",
     "start_time": "2025-06-27T17:41:07.718608Z"
    }
   },
   "cell_type": "code",
   "source": [
    "import numpy as np\n",
    "\n",
    "signal = record.p_signal\n",
    "labels = annotation.symbol\n",
    "positions = annotation.sample\n",
    "\n",
    "fs = int(record.fs)  # sampling frequency (e.g., 257 Hz)\n",
    "window_size = fs     # 1-second window (can be 2×fs for 2s)\n",
    "\n",
    "X = []\n",
    "y = []\n",
    "\n",
    "for idx, pos in enumerate(positions):\n",
    "    start = pos - window_size // 2\n",
    "    end = pos + window_size // 2\n",
    "\n",
    "    # Skip beats too close to the signal edges\n",
    "    if start < 0 or end > len(signal):\n",
    "        continue\n",
    "\n",
    "    # Extract window (12-lead)\n",
    "    window = signal[start:end, :]\n",
    "    X.append(window)\n",
    "    y.append(labels[idx])\n",
    "\n",
    "X = np.array(X)  # shape: (n_beats, window_size, 12)\n",
    "y = np.array(y)  # shape: (n_beats,)\n"
   ],
   "id": "2ff56ce0942b9647",
   "outputs": [],
   "execution_count": 15
  },
  {
   "metadata": {
    "ExecuteTime": {
     "end_time": "2025-06-27T17:41:28.133733Z",
     "start_time": "2025-06-27T17:41:28.129522Z"
    }
   },
   "cell_type": "code",
   "source": "X.shape",
   "id": "d29a7f43850b7440",
   "outputs": [
    {
     "data": {
      "text/plain": [
       "(2756, 256, 12)"
      ]
     },
     "execution_count": 19,
     "metadata": {},
     "output_type": "execute_result"
    }
   ],
   "execution_count": 19
  },
  {
   "metadata": {
    "ExecuteTime": {
     "end_time": "2025-06-27T17:43:27.648454Z",
     "start_time": "2025-06-27T17:43:27.645453Z"
    }
   },
   "cell_type": "code",
   "source": "sample = X[0]",
   "id": "73aebfdced52122b",
   "outputs": [],
   "execution_count": 22
  },
  {
   "metadata": {
    "ExecuteTime": {
     "end_time": "2025-06-27T17:44:00.859803Z",
     "start_time": "2025-06-27T17:44:00.855588Z"
    }
   },
   "cell_type": "code",
   "source": "sample.shape",
   "id": "60e33b5becbc67a4",
   "outputs": [
    {
     "data": {
      "text/plain": [
       "(256, 12)"
      ]
     },
     "execution_count": 27,
     "metadata": {},
     "output_type": "execute_result"
    }
   ],
   "execution_count": 27
  },
  {
   "metadata": {
    "ExecuteTime": {
     "end_time": "2025-06-27T17:45:01.462148Z",
     "start_time": "2025-06-27T17:45:01.444585Z"
    }
   },
   "cell_type": "code",
   "source": "sample[:,0]",
   "id": "b6b84a7e97ed272a",
   "outputs": [
    {
     "data": {
      "text/plain": [
       "array([3.61764706, 3.67973856, 3.67647059, 3.72875817, 3.7254902 ,\n",
       "       3.67647059, 3.66993464, 3.69607843, 3.68300654, 3.66339869,\n",
       "       3.65686275, 3.67973856, 3.69281046, 3.7254902 , 3.73202614,\n",
       "       3.7745098 , 3.78431373, 3.77777778, 3.80392157, 3.81045752,\n",
       "       3.80392157, 3.85294118, 3.85947712, 3.88562092, 3.94117647,\n",
       "       3.97058824, 3.94444444, 3.89869281, 3.89869281, 3.90196078,\n",
       "       3.90196078, 3.89215686, 3.8627451 , 3.80392157, 3.76797386,\n",
       "       3.76470588, 3.75490196, 3.73529412, 3.72222222, 3.71895425,\n",
       "       3.70261438, 3.74836601, 3.74183007, 3.67973856, 3.66993464,\n",
       "       3.69607843, 3.66993464, 3.68954248, 3.69934641, 3.66993464,\n",
       "       3.67647059, 3.69281046, 3.66339869, 3.65359477, 3.66666667,\n",
       "       3.67320261, 3.68627451, 3.68954248, 3.68300654, 3.6503268 ,\n",
       "       3.62418301, 3.62745098, 3.66339869, 3.71568627, 3.69281046,\n",
       "       3.6372549 , 3.66666667, 3.67320261, 3.66339869, 3.65359477,\n",
       "       3.6372549 , 3.64052288, 3.66993464, 3.64052288, 3.62091503,\n",
       "       3.61111111, 3.61111111, 3.61437908, 3.6372549 , 3.64705882,\n",
       "       3.62745098, 3.65686275, 3.67647059, 3.63398693, 3.64705882,\n",
       "       3.68627451, 3.70915033, 3.69281046, 3.64052288, 3.63071895,\n",
       "       3.67973856, 3.7124183 , 3.70915033, 3.67973856, 3.69281046,\n",
       "       3.73202614, 3.74836601, 3.76797386, 3.77124183, 3.75490196,\n",
       "       3.74509804, 3.76470588, 3.78431373, 3.77777778, 3.68300654,\n",
       "       3.64379085, 3.66013072, 3.64379085, 3.62091503, 3.66339869,\n",
       "       3.62091503, 3.5751634 , 3.53594771, 3.52941176, 3.61111111,\n",
       "       3.64052288, 3.61111111, 3.59150327, 3.56535948, 3.58169935,\n",
       "       3.55882353, 3.49346405, 3.44444444, 3.47058824, 3.52941176,\n",
       "       3.66993464, 3.86928105, 4.09150327, 4.35620915, 4.6372549 ,\n",
       "       4.62418301, 4.45751634, 4.19607843, 3.94117647, 3.8627451 ,\n",
       "       3.76143791, 3.69607843, 3.70261438, 3.74836601, 3.67973856,\n",
       "       3.57843137, 3.51960784, 3.54575163, 3.5       , 3.55882353,\n",
       "       3.64052288, 3.63398693, 3.58169935, 3.58823529, 3.5751634 ,\n",
       "       3.58496732, 3.60784314, 3.62418301, 3.61437908, 3.60457516,\n",
       "       3.58823529, 3.53921569, 3.5751634 , 3.61111111, 3.59803922,\n",
       "       3.61437908, 3.64052288, 3.63071895, 3.64052288, 3.63071895,\n",
       "       3.62745098, 3.67973856, 3.7254902 , 3.66666667, 3.59803922,\n",
       "       3.6372549 , 3.66339869, 3.64705882, 3.65686275, 3.6503268 ,\n",
       "       3.72222222, 3.76797386, 3.71568627, 3.71895425, 3.7254902 ,\n",
       "       3.70915033, 3.69281046, 3.76797386, 3.83333333, 3.80065359,\n",
       "       3.77124183, 3.84313725, 3.87908497, 3.90849673, 3.87908497,\n",
       "       3.87581699, 3.88235294, 3.90522876, 3.89869281, 3.86601307,\n",
       "       3.83333333, 3.80392157, 3.76143791, 3.72875817, 3.75163399,\n",
       "       3.76797386, 3.74509804, 3.68627451, 3.7254902 , 3.73856209,\n",
       "       3.69281046, 3.66993464, 3.70261438, 3.69934641, 3.68954248,\n",
       "       3.7254902 , 3.68627451, 3.64379085, 3.69607843, 3.72222222,\n",
       "       3.75490196, 3.65359477, 3.66013072, 3.65686275, 3.64705882,\n",
       "       3.66666667, 3.69607843, 3.72222222, 3.7254902 , 3.69607843,\n",
       "       3.74183007, 3.7254902 , 3.69281046, 3.69934641, 3.68627451,\n",
       "       3.66993464, 3.67647059, 3.67973856, 3.69934641, 3.73202614,\n",
       "       3.70588235, 3.67320261, 3.66339869, 3.72222222, 3.70915033,\n",
       "       3.69281046, 3.70915033, 3.66993464, 3.66013072, 3.7124183 ,\n",
       "       3.7254902 , 3.68954248, 3.6372549 , 3.71568627, 3.76797386,\n",
       "       3.72222222, 3.73529412, 3.78104575, 3.75490196, 3.73202614,\n",
       "       3.75816993])"
      ]
     },
     "execution_count": 31,
     "metadata": {},
     "output_type": "execute_result"
    }
   ],
   "execution_count": 31
  },
  {
   "metadata": {
    "ExecuteTime": {
     "end_time": "2025-06-27T17:45:47.828718Z",
     "start_time": "2025-06-27T17:45:47.823698Z"
    }
   },
   "cell_type": "code",
   "source": "y[0]",
   "id": "f2d81d011835fe90",
   "outputs": [
    {
     "data": {
      "text/plain": [
       "np.str_('N')"
      ]
     },
     "execution_count": 34,
     "metadata": {},
     "output_type": "execute_result"
    }
   ],
   "execution_count": 34
  },
  {
   "metadata": {
    "ExecuteTime": {
     "end_time": "2025-06-27T17:46:10.314373Z",
     "start_time": "2025-06-27T17:46:10.309408Z"
    }
   },
   "cell_type": "code",
   "source": "y[0:10]",
   "id": "df11bed1e55717b4",
   "outputs": [
    {
     "data": {
      "text/plain": [
       "array(['N', 'N', 'N', 'V', 'N', 'N', 'N', 'N', 'N', 'N'], dtype='<U1')"
      ]
     },
     "execution_count": 37,
     "metadata": {},
     "output_type": "execute_result"
    }
   ],
   "execution_count": 37
  },
  {
   "metadata": {
    "ExecuteTime": {
     "end_time": "2025-06-27T17:47:16.941872Z",
     "start_time": "2025-06-27T17:47:16.131104Z"
    }
   },
   "cell_type": "code",
   "source": [
    "from sklearn.preprocessing import LabelEncoder\n",
    "\n",
    "label_encoder = LabelEncoder()\n",
    "y_encoded = label_encoder.fit_transform(y)\n",
    "\n",
    "print(\"Classes:\", label_encoder.classes_)\n"
   ],
   "id": "64c4adfeb2b0e5c4",
   "outputs": [
    {
     "name": "stdout",
     "output_type": "stream",
     "text": [
      "Classes: ['N' 'V']\n"
     ]
    }
   ],
   "execution_count": 38
  },
  {
   "metadata": {
    "ExecuteTime": {
     "end_time": "2025-06-27T17:51:25.722437Z",
     "start_time": "2025-06-27T17:51:25.717503Z"
    }
   },
   "cell_type": "code",
   "source": "y_encoded[:10]",
   "id": "9162d25e0743ca34",
   "outputs": [
    {
     "data": {
      "text/plain": [
       "array([0, 0, 0, 1, 0, 0, 0, 0, 0, 0])"
      ]
     },
     "execution_count": 42,
     "metadata": {},
     "output_type": "execute_result"
    }
   ],
   "execution_count": 42
  },
  {
   "metadata": {},
   "cell_type": "code",
   "outputs": [],
   "execution_count": null,
   "source": [
    "# Normalize each window across the time dimension (z-score per lead)\n",
    "X = (X - X.mean(axis=1, keepdims=True)) / (X.std(axis=1, keepdims=True) + 1e-8)\n"
   ],
   "id": "679f5e0a105b0bee"
  },
  {
   "metadata": {},
   "cell_type": "code",
   "outputs": [],
   "execution_count": null,
   "source": [
    "'''\n",
    "From your data (likely INCART or St. Petersburg), the sampling frequency is: 257\n",
    "This means:\n",
    "\n",
    "257 samples = 1 second of data\n",
    "\n",
    "So window_size = fs gives you a 1-second window\n",
    "\n",
    "window_size = 2 * fs → 2-second window, etc.\n",
    "'''"
   ],
   "id": "f1b4717532a43ca6"
  },
  {
   "metadata": {
    "ExecuteTime": {
     "end_time": "2025-06-27T18:13:05.943832Z",
     "start_time": "2025-06-27T18:12:47.611754Z"
    }
   },
   "cell_type": "code",
   "source": [
    "# all files\n",
    "import os\n",
    "import wfdb\n",
    "import numpy as np\n",
    "from sklearn.preprocessing import LabelEncoder\n",
    "from tqdm import tqdm\n",
    "\n",
    "# Config\n",
    "data_dir = '../data/files'\n",
    "fs = 257  # Sampling frequency — adjust if yours differs\n",
    "window_size = fs  # 1 second\n",
    "X_all = []\n",
    "y_all = []\n",
    "\n",
    "# List all .hea files\n",
    "hea_files = [f for f in os.listdir(data_dir) if f.endswith('.hea')]\n",
    "\n",
    "# Process each record\n",
    "for hea_file in tqdm(hea_files, desc=\"Processing records\"):\n",
    "    record_name = os.path.splitext(hea_file)[0]\n",
    "    record_path = os.path.join(data_dir, record_name)\n",
    "\n",
    "    try:\n",
    "        record = wfdb.rdrecord(record_path)\n",
    "        annotation = wfdb.rdann(record_path, 'atr')\n",
    "    except Exception as e:\n",
    "        print(f\"Skipping {record_name} due to error: {e}\")\n",
    "        continue\n",
    "\n",
    "    signal = record.p_signal\n",
    "    labels = annotation.symbol\n",
    "    positions = annotation.sample\n",
    "\n",
    "    for idx, pos in enumerate(positions):\n",
    "        start = pos - window_size // 2\n",
    "        end = pos + window_size // 2\n",
    "\n",
    "        # Skip if near edges\n",
    "        if start < 0 or end > len(signal):\n",
    "            continue\n",
    "\n",
    "        # Extract window\n",
    "        window = signal[start:end, :]\n",
    "        X_all.append(window)\n",
    "        y_all.append(labels[idx])\n",
    "\n",
    "# Convert to arrays\n",
    "X_all = np.array(X_all)\n",
    "y_all = np.array(y_all)\n",
    "\n",
    "print(f\"Final dataset: X shape = {X_all.shape}, y shape = {y_all.shape}\")\n"
   ],
   "id": "424ce82508a2b251",
   "outputs": [
    {
     "name": "stderr",
     "output_type": "stream",
     "text": [
      "Processing records: 100%|██████████| 75/75 [00:05<00:00, 14.75it/s]\n"
     ]
    },
    {
     "name": "stdout",
     "output_type": "stream",
     "text": [
      "Final dataset: X shape = (175824, 256, 12), y shape = (175824,)\n"
     ]
    }
   ],
   "execution_count": 44
  },
  {
   "metadata": {
    "ExecuteTime": {
     "end_time": "2025-06-27T18:19:58.859842Z",
     "start_time": "2025-06-27T18:19:49.263162Z"
    }
   },
   "cell_type": "code",
   "source": [
    "# Remove '+' symbols (non-beat markers)\n",
    "valid_mask = y_all != '+'\n",
    "X_clean = X_all[valid_mask]\n",
    "y_clean = y_all[valid_mask]\n"
   ],
   "id": "8232cc42d0e0e754",
   "outputs": [],
   "execution_count": 46
  },
  {
   "metadata": {
    "ExecuteTime": {
     "end_time": "2025-06-27T18:22:01.262806Z",
     "start_time": "2025-06-27T18:20:55.348289Z"
    }
   },
   "cell_type": "code",
   "source": [
    "# Encode labels to integers\n",
    "label_encoder = LabelEncoder()\n",
    "y_encoded = label_encoder.fit_transform(y_all)\n",
    "\n",
    "# Normalize (z-score) each sample per lead\n",
    "X_all = (X_all - X_all.mean(axis=1, keepdims=True)) / (X_all.std(axis=1, keepdims=True) + 1e-8)\n",
    "\n",
    "print(\"Classes:\", label_encoder.classes_)\n"
   ],
   "id": "d37f6e3f691be734",
   "outputs": [
    {
     "name": "stdout",
     "output_type": "stream",
     "text": [
      "Classes: ['+' 'A' 'B' 'F' 'N' 'Q' 'R' 'S' 'V' 'j' 'n']\n"
     ]
    }
   ],
   "execution_count": 47
  },
  {
   "metadata": {},
   "cell_type": "code",
   "outputs": [],
   "execution_count": null,
   "source": "",
   "id": "85fc182eba487417"
  }
 ],
 "metadata": {
  "kernelspec": {
   "display_name": "Python 3",
   "language": "python",
   "name": "python3"
  },
  "language_info": {
   "codemirror_mode": {
    "name": "ipython",
    "version": 2
   },
   "file_extension": ".py",
   "mimetype": "text/x-python",
   "name": "python",
   "nbconvert_exporter": "python",
   "pygments_lexer": "ipython2",
   "version": "2.7.6"
  }
 },
 "nbformat": 4,
 "nbformat_minor": 5
}
